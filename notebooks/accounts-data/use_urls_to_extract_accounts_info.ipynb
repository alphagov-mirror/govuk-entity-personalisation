{
 "cells": [
  {
   "cell_type": "code",
   "execution_count": null,
   "metadata": {},
   "outputs": [],
   "source": [
    "import google.auth\n",
    "from google.cloud import bigquery\n",
    "import pandas as pd\n",
    "import pandas_gbq"
   ]
  },
  {
   "cell_type": "code",
   "execution_count": null,
   "metadata": {},
   "outputs": [],
   "source": [
    "def create_big_query_client():\n",
    "    credentials, project_id = google.auth.default()\n",
    "\n",
    "    return bigquery.Client(\n",
    "      credentials=credentials,\n",
    "      project=project_id)"
   ]
  },
  {
   "cell_type": "code",
   "execution_count": null,
   "metadata": {},
   "outputs": [],
   "source": [
    "client = create_big_query_client()"
   ]
  },
  {
   "cell_type": "code",
   "execution_count": null,
   "metadata": {},
   "outputs": [],
   "source": [
    "get_last_checker_result_query = \"\"\"\n",
    "SELECT DISTINCT\n",
    "fullVisitorId,\n",
    "REGEXP_EXTRACT(\n",
    "    LAST_VALUE(hits.page.pagePath) OVER (\n",
    "      PARTITION BY fullVisitorId ORDER BY (visitStartTime + hits.time) ASC\n",
    "      ROWS BETWEEN UNBOUNDED PRECEDING AND UNBOUNDED FOLLOWING),\n",
    "  r\"/transition-check/results\\?c\\[.??\\]\\=(.*)\") AS pagePath,\n",
    "LAST_VALUE(hits.page.pagePath) OVER (\n",
    "  PARTITION BY fullVisitorId ORDER BY (visitStartTime + hits.time) ASC\n",
    "  ROWS BETWEEN UNBOUNDED PRECEDING AND UNBOUNDED FOLLOWING) AS pagePath_old\n",
    "FROM\n",
    "`govuk-bigquery-analytics.87773428.ga_sessions_*` AS sessions\n",
    "CROSS JOIN\n",
    "  UNNEST(sessions.hits) AS hits\n",
    "WHERE\n",
    "    _TABLE_SUFFIX between '20201215' and '20201215'\n",
    "    AND hits.page.pagePath LIKE '/transition-check/results?%'\n",
    "\"\"\""
   ]
  },
  {
   "cell_type": "code",
   "execution_count": null,
   "metadata": {},
   "outputs": [],
   "source": [
    "checker_results_df = pandas_gbq.read_gbq(get_last_checker_result_query)"
   ]
  },
  {
   "cell_type": "code",
   "execution_count": null,
   "metadata": {},
   "outputs": [],
   "source": [
    "checker_results_df.head()"
   ]
  },
  {
   "cell_type": "code",
   "execution_count": null,
   "metadata": {},
   "outputs": [],
   "source": [
    "checker_results_df.to_csv('latest_checker_results_20201215.csv', index=False)"
   ]
  },
  {
   "cell_type": "code",
   "execution_count": null,
   "metadata": {},
   "outputs": [],
   "source": [
    "def split_page_path(page_path):\n",
    "    try:\n",
    "        return page_path.split('&c[]=')\n",
    "    except AttributeError:\n",
    "        print(page_path)"
   ]
  },
  {
   "cell_type": "code",
   "execution_count": null,
   "metadata": {},
   "outputs": [],
   "source": [
    "checker_results_df[checker_results_df['pagePath'].isnull()]"
   ]
  },
  {
   "cell_type": "code",
   "execution_count": null,
   "metadata": {},
   "outputs": [],
   "source": [
    "checker_results_df['answers'] = checker_results_df['pagePath'].map(split_page_path)"
   ]
  },
  {
   "cell_type": "code",
   "execution_count": null,
   "metadata": {},
   "outputs": [],
   "source": [
    "checker_results_df.head()"
   ]
  },
  {
   "cell_type": "code",
   "execution_count": null,
   "metadata": {},
   "outputs": [],
   "source": [
    "checker_results_df['answers'][0]"
   ]
  },
  {
   "cell_type": "code",
   "execution_count": null,
   "metadata": {},
   "outputs": [],
   "source": []
  }
 ],
 "metadata": {
  "kernelspec": {
   "display_name": "",
   "language": "python",
   "name": ""
  },
  "language_info": {
   "codemirror_mode": {
    "name": "ipython",
    "version": 3
   },
   "file_extension": ".py",
   "mimetype": "text/x-python",
   "name": "python",
   "nbconvert_exporter": "python",
   "pygments_lexer": "ipython3",
   "version": "3.7.2"
  }
 },
 "nbformat": 4,
 "nbformat_minor": 4
}
