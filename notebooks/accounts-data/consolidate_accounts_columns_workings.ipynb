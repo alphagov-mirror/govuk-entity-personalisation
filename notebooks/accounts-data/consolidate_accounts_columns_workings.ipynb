{
 "cells": [
  {
   "cell_type": "markdown",
   "metadata": {},
   "source": [
    "## Import packages and data"
   ]
  },
  {
   "cell_type": "code",
   "execution_count": null,
   "metadata": {},
   "outputs": [],
   "source": [
    "import json\n",
    "import yaml\n",
    "\n",
    "import pandas as pd"
   ]
  },
  {
   "cell_type": "code",
   "execution_count": null,
   "metadata": {},
   "outputs": [],
   "source": [
    "# load the yaml of questions from the Brexit checker downloaded from\n",
    "# https://github.com/alphagov/finder-frontend/blob/master/app/lib/brexit_checker/questions.yaml\n",
    "with open(r'questions.yaml') as file:\n",
    "    questions_list = yaml.load(file, Loader=yaml.SafeLoader)"
   ]
  },
  {
   "cell_type": "code",
   "execution_count": null,
   "metadata": {},
   "outputs": [],
   "source": [
    "# there are four question types at the moment:\n",
    "# 'multiple', 'multiple_grouped', 'single', 'single_wrapped'\n",
    "set([question['type'] for question in questions_list['questions']])"
   ]
  },
  {
   "cell_type": "code",
   "execution_count": null,
   "metadata": {},
   "outputs": [],
   "source": [
    "# open a sample of accounts data (checker answers) with timestamps and account IDs removed\n",
    "answers_sample = pd.read_csv('answers_sample.csv')"
   ]
  },
  {
   "cell_type": "markdown",
   "metadata": {},
   "source": [
    "## Work on questions with a single answer"
   ]
  },
  {
   "cell_type": "code",
   "execution_count": null,
   "metadata": {},
   "outputs": [],
   "source": [
    "# get all the \"single\" questions - where only one answer is selected\n",
    "single_answer_questions = [question for question in questions_list['questions'] if question['type'] == 'single']"
   ]
  },
  {
   "cell_type": "code",
   "execution_count": null,
   "metadata": {},
   "outputs": [],
   "source": [
    "def collapse_single_answer_q(row_of_accounts_data, question_option_values):\n",
    "    \"\"\"\n",
    "    look at all the columns relating to a single-answer question (one columns per possible answer) and return the answer that was chosen\n",
    "    one_row: a row of accounts data (from a pandas dataframe)\n",
    "    question_option_values: for a single answer question, what values can the answer take?\n",
    "    \"\"\"\n",
    "    for table_value in question_option_values:\n",
    "        if row_of_accounts_data[table_value] == True:\n",
    "            return table_value"
   ]
  },
  {
   "cell_type": "code",
   "execution_count": null,
   "metadata": {},
   "outputs": [],
   "source": [
    "def collapse_all_single_answer_questions(single_answer_questions_list, accounts_df):\n",
    "    \"\"\"\n",
    "    take a dataframe of checker responses, for questions that only want one answer, get all the potential answer columns,\n",
    "    bring the answers into one column for using later on, and drop the one-hot encoding style columns\n",
    "    single_answer_questions: list of the dictionaries describing each question that takes a single answer\n",
    "    accounts_df: pandas dataframe containing accounts data - the responses to the brexit checker questions\n",
    "    \"\"\"\n",
    "    for question in single_answer_questions_list:\n",
    "        question_key = question['key'] #\n",
    "        question_option_values = [option['value'].replace('-','_') for option in question['options']]\n",
    "        copy_accounts_df[question_key] = accounts_df.apply(lambda x: collapse_single_answer_q(x, question_option_values), axis=1)\n",
    "#         drop those one-hot style columns for a narrower DF, could remove this if you want to keep them though\n",
    "#         print(question_option_values)\n",
    "        accounts_df = accounts_df.drop(question_option_values, axis=1)\n",
    "    return accounts_df"
   ]
  },
  {
   "cell_type": "code",
   "execution_count": null,
   "metadata": {},
   "outputs": [],
   "source": [
    "slimmer_df = collapse_all_single_answer_questions(single_answer_questions, answers_sample)\n"
   ]
  },
  {
   "cell_type": "code",
   "execution_count": null,
   "metadata": {},
   "outputs": [],
   "source": [
    "slimmer_df"
   ]
  },
  {
   "cell_type": "markdown",
   "metadata": {},
   "source": [
    "## Look at single-wrapped questions"
   ]
  },
  {
   "cell_type": "code",
   "execution_count": null,
   "metadata": {},
   "outputs": [],
   "source": [
    "single_wrapped_answer_questions = [question for question in questions_list['questions'] if question['type'] == 'single_wrapped']"
   ]
  },
  {
   "cell_type": "code",
   "execution_count": null,
   "metadata": {},
   "outputs": [],
   "source": [
    "single_wrapped_answer_questions"
   ]
  },
  {
   "cell_type": "code",
   "execution_count": null,
   "metadata": {},
   "outputs": [],
   "source": [
    "single_wrapped_answer_questions[0]['options']"
   ]
  },
  {
   "cell_type": "code",
   "execution_count": null,
   "metadata": {},
   "outputs": [],
   "source": [
    "def collapse_all_single_wrapped_answer_questions(single_wrapped_questions_list, accounts_df):\n",
    "    \"\"\"\n",
    "    take a dataframe of checker responses, for questions that only want one answer, but then multiple follow ups,\n",
    "    get all the potential answer columns,\n",
    "    bring the mutually exclusive top-level answers into one column for using later on,\n",
    "    and drop the one-hot encoding style columns\n",
    "    single_wrapped_questions_list: list of the dictionaries describing each question that takes a single answer with multiple follow-ups\n",
    "    accounts_df: pandas dataframe containing accounts data - the responses to the brexit checker questions\n",
    "    \"\"\"\n",
    "    column_renaming_mapper = dict()\n",
    "    for question in single_wrapped_questions_list:\n",
    "        question_key = question['key']\n",
    "        question_option_values = []\n",
    "        for option in question['options']:\n",
    "            question_option_values.append(option['value'].replace('-','_'))\n",
    "            if 'options' in option:\n",
    "                column_renaming_mapper.update(\n",
    "                    {choice['value'].replace('-','_'): \n",
    "                     f\"{question_key}--{choice['value'].replace('-','_')}\" for choice in option['options']})\n",
    "        accounts_df[question_key] = accounts_df.apply(lambda x: collapse_single_answer_q(x, question_option_values), axis=1)\n",
    "#         drop those one-hot style columns for a narrower DF, could remove this if you want to keep them though\n",
    "#         print(question_option_values)\n",
    "        accounts_df = accounts_df.drop(question_option_values, axis=1)\n",
    "    accounts_df = accounts_df.rename(columns=column_renaming_mapper, errors=\"raise\")\n",
    "    return accounts_df"
   ]
  },
  {
   "cell_type": "code",
   "execution_count": null,
   "metadata": {},
   "outputs": [],
   "source": [
    "pd.options.display.max_columns = None\n"
   ]
  },
  {
   "cell_type": "code",
   "execution_count": null,
   "metadata": {},
   "outputs": [],
   "source": [
    "print(slimmer_df.columns.tolist())\n"
   ]
  },
  {
   "cell_type": "code",
   "execution_count": null,
   "metadata": {},
   "outputs": [],
   "source": [
    "slimmer_df_2 = collapse_all_single_wrapped_answer_questions(single_wrapped_answer_questions, slimmer_df)"
   ]
  },
  {
   "cell_type": "code",
   "execution_count": null,
   "metadata": {},
   "outputs": [],
   "source": [
    "set(slimmer_df.columns) - set(slimmer_df_2.columns)"
   ]
  },
  {
   "cell_type": "code",
   "execution_count": null,
   "metadata": {},
   "outputs": [],
   "source": [
    "slimmer_df.shape"
   ]
  },
  {
   "cell_type": "code",
   "execution_count": null,
   "metadata": {},
   "outputs": [],
   "source": [
    "slimmer_df_2.shape"
   ]
  },
  {
   "cell_type": "code",
   "execution_count": null,
   "metadata": {},
   "outputs": [],
   "source": [
    "set(slimmer_df_2.columns) - set(slimmer_df.columns)"
   ]
  },
  {
   "cell_type": "markdown",
   "metadata": {},
   "source": [
    "## Rename multi-answer columns to add reference to the question asked?"
   ]
  },
  {
   "cell_type": "code",
   "execution_count": null,
   "metadata": {},
   "outputs": [],
   "source": [
    "multiple_answer_questions = [question for question in questions_list['questions'] if question['type'] == 'multiple']"
   ]
  },
  {
   "cell_type": "code",
   "execution_count": null,
   "metadata": {},
   "outputs": [],
   "source": [
    "multiple_answer_questions[0]"
   ]
  },
  {
   "cell_type": "code",
   "execution_count": null,
   "metadata": {},
   "outputs": [],
   "source": [
    "def rename_multiple_answer_questions(multiple_questions_list, accounts_df):\n",
    "    \"\"\"\n",
    "    take a dataframe of checker responses, for questions that can have multiple answers,\n",
    "    get all the potential answer columns and add the question key as a prefix\n",
    "    multiple_questions_list: list of the dictionaries describing each question that takes multiple answers\n",
    "    accounts_df: pandas dataframe containing accounts data - the responses to the brexit checker questions\n",
    "    \"\"\"\n",
    "    column_renaming_mapper = dict()\n",
    "    for question in multiple_questions_list:\n",
    "        question_key = question['key']\n",
    "        column_renaming_mapper.update({\n",
    "            choice['value'].replace('-','_'): \n",
    "            f\"{question_key}--{choice['value'].replace('-','_')}\" for choice in question['options']})\n",
    "    accounts_df = accounts_df.rename(columns=column_renaming_mapper, errors=\"raise\")\n",
    "#         print(question_option_values)\n",
    "    return accounts_df"
   ]
  },
  {
   "cell_type": "code",
   "execution_count": null,
   "metadata": {},
   "outputs": [],
   "source": [
    "slimmer_df_3 = rename_multiple_answer_questions(multiple_answer_questions, slimmer_df_2)"
   ]
  },
  {
   "cell_type": "markdown",
   "metadata": {},
   "source": [
    "## Rename multiple grouped answer columns to add reference to the question asked?"
   ]
  },
  {
   "cell_type": "code",
   "execution_count": null,
   "metadata": {},
   "outputs": [],
   "source": [
    "multiple_grouped_answer_questions = [question for question in questions_list['questions'] if question['type'] == 'multiple_grouped']"
   ]
  },
  {
   "cell_type": "code",
   "execution_count": null,
   "metadata": {},
   "outputs": [],
   "source": [
    "multiple_grouped_answer_questions"
   ]
  },
  {
   "cell_type": "code",
   "execution_count": null,
   "metadata": {},
   "outputs": [],
   "source": [
    "def rename_multiple_grouped_answer_questions(multiple_grouped_questions_list, accounts_df):\n",
    "    \"\"\"\n",
    "    take a dataframe of checker responses, for questions that can have multiple (grouped)answers,\n",
    "    get all the potential answer columns and add the question key as a prefix\n",
    "    multiple_grouped_questions_list: list of the dictionaries describing each question that takes multiple grouped answers\n",
    "    accounts_df: pandas dataframe containing accounts data - the responses to the brexit checker questions\n",
    "    \"\"\"\n",
    "    column_renaming_mapper = dict()\n",
    "    for question in multiple_grouped_questions_list:\n",
    "        question_key = question['key']\n",
    "        question_option_values = []\n",
    "        for option in question['options']:\n",
    "            if 'options' in option:\n",
    "                column_renaming_mapper.update(\n",
    "                    {choice['value'].replace('-','_'): \n",
    "                     f\"{question_key}--{choice['value'].replace('-','_')}\" for choice in option['options']})\n",
    "    accounts_df = accounts_df.rename(columns=column_renaming_mapper, errors=\"raise\")\n",
    "    return accounts_df\n"
   ]
  },
  {
   "cell_type": "code",
   "execution_count": null,
   "metadata": {},
   "outputs": [],
   "source": [
    "slimmer_df_4 = rename_multiple_grouped_answer_questions(multiple_grouped_answer_questions, slimmer_df_3)"
   ]
  },
  {
   "cell_type": "code",
   "execution_count": null,
   "metadata": {},
   "outputs": [],
   "source": [
    "slimmer_df_4"
   ]
  },
  {
   "cell_type": "code",
   "execution_count": null,
   "metadata": {},
   "outputs": [],
   "source": [
    "slimmer_df_4.columns"
   ]
  },
  {
   "cell_type": "code",
   "execution_count": null,
   "metadata": {},
   "outputs": [],
   "source": []
  }
 ],
 "metadata": {
  "kernelspec": {
   "display_name": "",
   "language": "python",
   "name": ""
  },
  "language_info": {
   "codemirror_mode": {
    "name": "ipython",
    "version": 3
   },
   "file_extension": ".py",
   "mimetype": "text/x-python",
   "name": "python",
   "nbconvert_exporter": "python",
   "pygments_lexer": "ipython3",
   "version": "3.7.2"
  }
 },
 "nbformat": 4,
 "nbformat_minor": 4
}
